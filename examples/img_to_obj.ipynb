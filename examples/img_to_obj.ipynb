{
 "cells": [
  {
   "cell_type": "code",
   "id": "initial_id",
   "metadata": {
    "collapsed": true,
    "ExecuteTime": {
     "end_time": "2024-11-01T16:17:15.083716Z",
     "start_time": "2024-11-01T16:17:14.973884Z"
    }
   },
   "source": [
    "import cv2\n",
    "import numpy as np\n",
    "\n",
    "img = cv2.imread('plan.png')[:711,:520,0]\n",
    "mask = (img < 2) | (abs(img - 128) < 2)\n",
    "mask = mask.astype(np.uint8) * 255\n"
   ],
   "outputs": [],
   "execution_count": 1
  },
  {
   "metadata": {
    "ExecuteTime": {
     "end_time": "2024-11-01T16:17:15.475651Z",
     "start_time": "2024-11-01T16:17:15.468085Z"
    }
   },
   "cell_type": "code",
   "source": [
    "\n",
    "kernel_size = 5\n",
    "\n",
    "filtered_image = np.abs(mask[:-1,1:] - mask[:-1,:-1]) + np.abs(mask[1:, :-1] - mask[:-1, :-1])\n",
    "blur_gray = cv2.GaussianBlur(filtered_image,(kernel_size, kernel_size),0)"
   ],
   "id": "e70e79698fba18fb",
   "outputs": [],
   "execution_count": 2
  },
  {
   "metadata": {
    "ExecuteTime": {
     "end_time": "2024-11-01T16:14:59.037276Z",
     "start_time": "2024-11-01T16:14:59.030871Z"
    }
   },
   "cell_type": "code",
   "source": [
    "low_threshold = 50\n",
    "high_threshold = 150\n",
    "edges = cv2.Canny(blur_gray, low_threshold, high_threshold)\n",
    "\n",
    "rho = 5  # distance resolution in pixels of the Hough grid\n",
    "theta = np.pi / 4  # angular resolution in radians of the Hough grid\n",
    "threshold = 20  # minimum number of votes (intersections in Hough grid cell)\n",
    "min_line_length = 5  # minimum number of pixels making up a line\n",
    "max_line_gap = 5  # maximum gap in pixels between connectable line segments\n",
    "line_image = np.copy(img) * 0  # creating a blank to draw lines on\n",
    "\n",
    "# Run Hough on edge detected image\n",
    "# Output \"lines\" is an array containing endpoints of detected line segments\n",
    "lines = cv2.HoughLinesP(edges, rho, theta, threshold, np.array([]),\n",
    "                    min_line_length, max_line_gap)\n",
    "\n",
    "for line in lines:\n",
    "    for x1,y1,x2,y2 in line:\n",
    "        cv2.line(line_image,(x1,y1),(x2,y2),(255,0,0),2)"
   ],
   "id": "e7b1be24dd8a8448",
   "outputs": [],
   "execution_count": 87
  },
  {
   "metadata": {
    "ExecuteTime": {
     "end_time": "2024-11-01T16:17:17.372785Z",
     "start_time": "2024-11-01T16:17:17.370207Z"
    }
   },
   "cell_type": "code",
   "source": [
    "from cv2 import LineSegmentDetector\n",
    "\n",
    "sd = LineSegmentDetector()"
   ],
   "id": "5ab885dc7a28c749",
   "outputs": [],
   "execution_count": 3
  },
  {
   "metadata": {
    "jupyter": {
     "is_executing": true
    }
   },
   "cell_type": "code",
   "source": "res = sd.detect(blur_gray)",
   "id": "b35d34533d92b513",
   "outputs": [],
   "execution_count": null
  },
  {
   "metadata": {},
   "cell_type": "code",
   "outputs": [],
   "execution_count": null,
   "source": "",
   "id": "b36202b6d11d4c12"
  }
 ],
 "metadata": {
  "kernelspec": {
   "display_name": "Python 3",
   "language": "python",
   "name": "python3"
  },
  "language_info": {
   "codemirror_mode": {
    "name": "ipython",
    "version": 2
   },
   "file_extension": ".py",
   "mimetype": "text/x-python",
   "name": "python",
   "nbconvert_exporter": "python",
   "pygments_lexer": "ipython2",
   "version": "2.7.6"
  }
 },
 "nbformat": 4,
 "nbformat_minor": 5
}

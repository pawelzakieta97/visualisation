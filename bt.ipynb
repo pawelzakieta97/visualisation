{
 "cells": [
  {
   "cell_type": "code",
   "execution_count": null,
   "id": "initial_id",
   "metadata": {
    "collapsed": true
   },
   "outputs": [],
   "source": [
    ""
   ]
  },
  {
   "metadata": {
    "ExecuteTime": {
     "end_time": "2024-11-09T16:10:04.219851Z",
     "start_time": "2024-11-09T16:09:31.424735Z"
    }
   },
   "cell_type": "code",
   "source": [
    "import time\n",
    "\n",
    "import serial\n",
    "\n",
    "ser = serial.Serial('/dev/ttyUSB0', 115200, timeout=1)\n",
    "msg = b'AT'\n",
    "time.sleep(0.1)\n",
    "out = []\n",
    "while True:\n",
    "    msg = b'AT'\n",
    "    ser.write(msg)\n",
    "    time.sleep(0.1)\n",
    "    res = ser.read(2)\n",
    "    out.append(res)\n",
    "    print(res)\n",
    "ser.close()"
   ],
   "id": "f758cc95cbc70113",
   "outputs": [
    {
     "name": "stdout",
     "output_type": "stream",
     "text": [
      "b''\n",
      "b''\n",
      "b''\n",
      "b''\n",
      "b''\n",
      "b''\n",
      "b''\n",
      "b''\n",
      "b''\n",
      "b''\n",
      "b''\n",
      "b'\\nR'\n",
      "b'IN'\n",
      "b'G '\n",
      "b'00'\n",
      "b'D4'\n",
      "b'3A'\n",
      "b'2C'\n",
      "b'9D'\n",
      "b'5B'\n",
      "b'4D'\n",
      "b',T'\n",
      "b'\\r\\n'\n",
      "b'CO'\n",
      "b'NN'\n",
      "b'EC'\n",
      "b'T '\n",
      "b'0,'\n",
      "b'02'\n",
      "b'4F'\n",
      "b'31'\n",
      "b'E0'\n",
      "b'5C'\n",
      "b'75'\n",
      "b'B3'\n",
      "b',4'\n",
      "b'50'\n",
      "b'00'\n",
      "b',5'\n",
      "b'00'\n",
      "b'00'\n",
      "b'00'\n",
      "b',0'\n",
      "b'\\r'\n",
      "b''\n",
      "b''\n",
      "b''\n",
      "b''\n",
      "b''\n",
      "b''\n",
      "b''\n",
      "b''\n",
      "b''\n",
      "b''\n",
      "b''\n",
      "b''\n",
      "b''\n",
      "b''\n"
     ]
    },
    {
     "ename": "KeyboardInterrupt",
     "evalue": "",
     "output_type": "error",
     "traceback": [
      "\u001B[0;31m---------------------------------------------------------------------------\u001B[0m",
      "\u001B[0;31mKeyboardInterrupt\u001B[0m                         Traceback (most recent call last)",
      "Cell \u001B[0;32mIn[1], line 13\u001B[0m\n\u001B[1;32m     11\u001B[0m ser\u001B[38;5;241m.\u001B[39mwrite(msg)\n\u001B[1;32m     12\u001B[0m time\u001B[38;5;241m.\u001B[39msleep(\u001B[38;5;241m0.1\u001B[39m)\n\u001B[0;32m---> 13\u001B[0m res \u001B[38;5;241m=\u001B[39m \u001B[43mser\u001B[49m\u001B[38;5;241;43m.\u001B[39;49m\u001B[43mread\u001B[49m\u001B[43m(\u001B[49m\u001B[38;5;241;43m2\u001B[39;49m\u001B[43m)\u001B[49m\n\u001B[1;32m     14\u001B[0m out\u001B[38;5;241m.\u001B[39mappend(res)\n\u001B[1;32m     15\u001B[0m \u001B[38;5;28mprint\u001B[39m(res)\n",
      "File \u001B[0;32m~/projects/my-projects/visualisation/.venv/lib/python3.10/site-packages/serial/serialposix.py:565\u001B[0m, in \u001B[0;36mSerial.read\u001B[0;34m(self, size)\u001B[0m\n\u001B[1;32m    563\u001B[0m \u001B[38;5;28;01mwhile\u001B[39;00m \u001B[38;5;28mlen\u001B[39m(read) \u001B[38;5;241m<\u001B[39m size:\n\u001B[1;32m    564\u001B[0m     \u001B[38;5;28;01mtry\u001B[39;00m:\n\u001B[0;32m--> 565\u001B[0m         ready, _, _ \u001B[38;5;241m=\u001B[39m \u001B[43mselect\u001B[49m\u001B[38;5;241;43m.\u001B[39;49m\u001B[43mselect\u001B[49m\u001B[43m(\u001B[49m\u001B[43m[\u001B[49m\u001B[38;5;28;43mself\u001B[39;49m\u001B[38;5;241;43m.\u001B[39;49m\u001B[43mfd\u001B[49m\u001B[43m,\u001B[49m\u001B[43m \u001B[49m\u001B[38;5;28;43mself\u001B[39;49m\u001B[38;5;241;43m.\u001B[39;49m\u001B[43mpipe_abort_read_r\u001B[49m\u001B[43m]\u001B[49m\u001B[43m,\u001B[49m\u001B[43m \u001B[49m\u001B[43m[\u001B[49m\u001B[43m]\u001B[49m\u001B[43m,\u001B[49m\u001B[43m \u001B[49m\u001B[43m[\u001B[49m\u001B[43m]\u001B[49m\u001B[43m,\u001B[49m\u001B[43m \u001B[49m\u001B[43mtimeout\u001B[49m\u001B[38;5;241;43m.\u001B[39;49m\u001B[43mtime_left\u001B[49m\u001B[43m(\u001B[49m\u001B[43m)\u001B[49m\u001B[43m)\u001B[49m\n\u001B[1;32m    566\u001B[0m         \u001B[38;5;28;01mif\u001B[39;00m \u001B[38;5;28mself\u001B[39m\u001B[38;5;241m.\u001B[39mpipe_abort_read_r \u001B[38;5;129;01min\u001B[39;00m ready:\n\u001B[1;32m    567\u001B[0m             os\u001B[38;5;241m.\u001B[39mread(\u001B[38;5;28mself\u001B[39m\u001B[38;5;241m.\u001B[39mpipe_abort_read_r, \u001B[38;5;241m1000\u001B[39m)\n",
      "\u001B[0;31mKeyboardInterrupt\u001B[0m: "
     ]
    }
   ],
   "execution_count": 1
  },
  {
   "metadata": {
    "ExecuteTime": {
     "end_time": "2024-11-09T16:10:15.007670Z",
     "start_time": "2024-11-09T16:10:15.001905Z"
    }
   },
   "cell_type": "code",
   "source": "b''.join(out)",
   "id": "43cb01cb209e6256",
   "outputs": [
    {
     "data": {
      "text/plain": [
       "b'\\nRING 00D43A2C9D5B4D,T\\r\\nCONNECT 0,024F31E05C75B3,45000,5000000,0\\r'"
      ]
     },
     "execution_count": 2,
     "metadata": {},
     "output_type": "execute_result"
    }
   ],
   "execution_count": 2
  },
  {
   "metadata": {
    "ExecuteTime": {
     "end_time": "2024-11-09T16:12:04.667411Z",
     "start_time": "2024-11-09T16:11:46.742986Z"
    }
   },
   "cell_type": "code",
   "source": [
    "import time\n",
    "\n",
    "import serial\n",
    "\n",
    "ser = serial.Serial('/dev/ttyUSB0', 115200, timeout=1)\n",
    "msg = b'AT'\n",
    "time.sleep(0.1)\n",
    "out = []\n",
    "while True:\n",
    "    msg = b'AT'\n",
    "    ser.write(msg)\n",
    "    time.sleep(0.1)\n",
    "    res = ser.read(2)\n",
    "    out.append(res)\n",
    "    print(res)\n",
    "ser.close()"
   ],
   "id": "ce7f955a0c87cbeb",
   "outputs": [
    {
     "name": "stdout",
     "output_type": "stream",
     "text": [
      "b'\\nN'\n",
      "b'OC'\n",
      "b'AR'\n",
      "b'RI'\n",
      "b'ER'\n",
      "b' 9'\n",
      "b'0\\r'\n",
      "b'\\nR'\n",
      "b'IN'\n",
      "b'G '\n",
      "b'00'\n",
      "b'D4'\n",
      "b'3A'\n",
      "b'2C'\n",
      "b'9D'\n",
      "b'5B'\n",
      "b'4D'\n",
      "b',T'\n",
      "b'\\r\\n'\n",
      "b'CO'\n",
      "b'NN'\n",
      "b'EC'\n",
      "b'T '\n",
      "b'0,'\n",
      "b'02'\n",
      "b'69'\n",
      "b'50'\n",
      "b'22'\n",
      "b'88'\n",
      "b'62'\n",
      "b'38'\n",
      "b',4'\n",
      "b'50'\n",
      "b'00'\n",
      "b',5'\n",
      "b'00'\n",
      "b'00'\n",
      "b'00'\n",
      "b',0'\n",
      "b'\\r'\n",
      "b''\n",
      "b''\n",
      "b''\n",
      "b''\n",
      "b''\n",
      "b''\n",
      "b''\n",
      "b''\n",
      "b''\n",
      "b''\n",
      "b''\n"
     ]
    },
    {
     "ename": "KeyboardInterrupt",
     "evalue": "",
     "output_type": "error",
     "traceback": [
      "\u001B[0;31m---------------------------------------------------------------------------\u001B[0m",
      "\u001B[0;31mKeyboardInterrupt\u001B[0m                         Traceback (most recent call last)",
      "Cell \u001B[0;32mIn[5], line 13\u001B[0m\n\u001B[1;32m     11\u001B[0m ser\u001B[38;5;241m.\u001B[39mwrite(msg)\n\u001B[1;32m     12\u001B[0m time\u001B[38;5;241m.\u001B[39msleep(\u001B[38;5;241m0.1\u001B[39m)\n\u001B[0;32m---> 13\u001B[0m res \u001B[38;5;241m=\u001B[39m \u001B[43mser\u001B[49m\u001B[38;5;241;43m.\u001B[39;49m\u001B[43mread\u001B[49m\u001B[43m(\u001B[49m\u001B[38;5;241;43m2\u001B[39;49m\u001B[43m)\u001B[49m\n\u001B[1;32m     14\u001B[0m out\u001B[38;5;241m.\u001B[39mappend(res)\n\u001B[1;32m     15\u001B[0m \u001B[38;5;28mprint\u001B[39m(res)\n",
      "File \u001B[0;32m~/projects/my-projects/visualisation/.venv/lib/python3.10/site-packages/serial/serialposix.py:565\u001B[0m, in \u001B[0;36mSerial.read\u001B[0;34m(self, size)\u001B[0m\n\u001B[1;32m    563\u001B[0m \u001B[38;5;28;01mwhile\u001B[39;00m \u001B[38;5;28mlen\u001B[39m(read) \u001B[38;5;241m<\u001B[39m size:\n\u001B[1;32m    564\u001B[0m     \u001B[38;5;28;01mtry\u001B[39;00m:\n\u001B[0;32m--> 565\u001B[0m         ready, _, _ \u001B[38;5;241m=\u001B[39m \u001B[43mselect\u001B[49m\u001B[38;5;241;43m.\u001B[39;49m\u001B[43mselect\u001B[49m\u001B[43m(\u001B[49m\u001B[43m[\u001B[49m\u001B[38;5;28;43mself\u001B[39;49m\u001B[38;5;241;43m.\u001B[39;49m\u001B[43mfd\u001B[49m\u001B[43m,\u001B[49m\u001B[43m \u001B[49m\u001B[38;5;28;43mself\u001B[39;49m\u001B[38;5;241;43m.\u001B[39;49m\u001B[43mpipe_abort_read_r\u001B[49m\u001B[43m]\u001B[49m\u001B[43m,\u001B[49m\u001B[43m \u001B[49m\u001B[43m[\u001B[49m\u001B[43m]\u001B[49m\u001B[43m,\u001B[49m\u001B[43m \u001B[49m\u001B[43m[\u001B[49m\u001B[43m]\u001B[49m\u001B[43m,\u001B[49m\u001B[43m \u001B[49m\u001B[43mtimeout\u001B[49m\u001B[38;5;241;43m.\u001B[39;49m\u001B[43mtime_left\u001B[49m\u001B[43m(\u001B[49m\u001B[43m)\u001B[49m\u001B[43m)\u001B[49m\n\u001B[1;32m    566\u001B[0m         \u001B[38;5;28;01mif\u001B[39;00m \u001B[38;5;28mself\u001B[39m\u001B[38;5;241m.\u001B[39mpipe_abort_read_r \u001B[38;5;129;01min\u001B[39;00m ready:\n\u001B[1;32m    567\u001B[0m             os\u001B[38;5;241m.\u001B[39mread(\u001B[38;5;28mself\u001B[39m\u001B[38;5;241m.\u001B[39mpipe_abort_read_r, \u001B[38;5;241m1000\u001B[39m)\n",
      "\u001B[0;31mKeyboardInterrupt\u001B[0m: "
     ]
    }
   ],
   "execution_count": 5
  },
  {
   "metadata": {
    "ExecuteTime": {
     "end_time": "2024-11-09T16:12:14.075503Z",
     "start_time": "2024-11-09T16:12:14.071908Z"
    }
   },
   "cell_type": "code",
   "source": "b''.join(out)",
   "id": "dbe4a26cb66d71c1",
   "outputs": [
    {
     "data": {
      "text/plain": [
       "b'\\nNOCARRIER 90\\r\\nRING 00D43A2C9D5B4D,T\\r\\nCONNECT 0,02695022886238,45000,5000000,0\\r'"
      ]
     },
     "execution_count": 7,
     "metadata": {},
     "output_type": "execute_result"
    }
   ],
   "execution_count": 7
  },
  {
   "metadata": {},
   "cell_type": "code",
   "outputs": [],
   "execution_count": null,
   "source": "",
   "id": "5cea83157945d9f7"
  }
 ],
 "metadata": {
  "kernelspec": {
   "display_name": "Python 3",
   "language": "python",
   "name": "python3"
  },
  "language_info": {
   "codemirror_mode": {
    "name": "ipython",
    "version": 2
   },
   "file_extension": ".py",
   "mimetype": "text/x-python",
   "name": "python",
   "nbconvert_exporter": "python",
   "pygments_lexer": "ipython2",
   "version": "2.7.6"
  }
 },
 "nbformat": 4,
 "nbformat_minor": 5
}
